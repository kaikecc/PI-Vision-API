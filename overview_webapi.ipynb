{
 "cells": [
  {
   "cell_type": "markdown",
   "metadata": {},
   "source": [
    "Autor: Kaike Castro Carvalho\n",
    "\n",
    "Date: 26-May-2024"
   ]
  },
  {
   "cell_type": "markdown",
   "metadata": {},
   "source": [
    "# Import Libraries"
   ]
  },
  {
   "cell_type": "code",
   "execution_count": 1,
   "metadata": {},
   "outputs": [],
   "source": [
    "import requests\n",
    "import urllib3\n",
    "from requests_kerberos import HTTPKerberosAuth\n",
    "import json"
   ]
  },
  {
   "cell_type": "markdown",
   "metadata": {},
   "source": [
    "## Base Code"
   ]
  },
  {
   "cell_type": "code",
   "execution_count": null,
   "metadata": {},
   "outputs": [],
   "source": [
    "class VisionApi:\n",
    "    def __init__(self, url_endpoint):\n",
    "        self.url_endpoint = url_endpoint\n",
    "\n",
    "    def _request(self, method, custom_url, body=None):\n",
    "        headers = {\n",
    "            'Content-Type': 'application/json',\n",
    "            'X-Requested-With': 'XMLHttpRequest'\n",
    "        }\n",
    "        api_url = f\"{self.url_endpoint}/{custom_url}\"\n",
    "\n",
    "        try:\n",
    "            response = requests.request(\n",
    "                method, api_url, auth=HTTPKerberosAuth(), headers=headers, \n",
    "                json=body, verify=False\n",
    "            )\n",
    "\n",
    "            if response.status_code == 200:\n",
    "                return response.json()\n",
    "            if response.status_code == 204:\n",
    "                print(f\"204: No content returned from the API: {api_url}\")\n",
    "                return {}\n",
    "            if response.status_code in [400, 401, 404, 503]:\n",
    "                print(f\"{response.status_code} Error: {response.text} from the API: {api_url}\")\n",
    "                return {}\n",
    "            print(f\"Unexpected {response.status_code} Error: {response.text} from the API: {api_url}\")\n",
    "            return {}\n",
    "\n",
    "        except requests.exceptions.RequestException as e:\n",
    "            print(f\"Connection Error while accessing the API: {api_url}: {e}\")\n",
    "            return {}\n",
    "\n",
    "    def get_PiVisionApi(self, custom_url):\n",
    "        return self._request(\"GET\", custom_url)"
   ]
  },
  {
   "cell_type": "code",
   "execution_count": null,
   "metadata": {},
   "outputs": [],
   "source": [
    "api = VisionApi(\"https://<servername>/PIVision/Utility/api/v1\", \"<username>\", \"<password>\")"
   ]
  },
  {
   "cell_type": "markdown",
   "metadata": {},
   "source": [
    "# Endpoints PI Vision API\n",
    "\n",
    "* Access the API endpoints to get the data you need to build your application."
   ]
  },
  {
   "cell_type": "markdown",
   "metadata": {},
   "source": [
    "This code is a simple example of how to access the list of displays.\n",
    "\n"
   ]
  },
  {
   "cell_type": "code",
   "execution_count": null,
   "metadata": {},
   "outputs": [],
   "source": [
    "data = api.get_PiVisionApi(f\"displays\")\n",
    "print(data)"
   ]
  },
  {
   "cell_type": "markdown",
   "metadata": {},
   "source": [
    "This code is a simple example of how to access the list of folders.\n",
    "\n"
   ]
  },
  {
   "cell_type": "code",
   "execution_count": null,
   "metadata": {},
   "outputs": [],
   "source": [
    "data = api.get_PiVisionApi(f\"folders\")\n",
    "print(data)"
   ]
  },
  {
   "cell_type": "markdown",
   "metadata": {},
   "source": [
    "This code is a simple example of how to access a display specific"
   ]
  },
  {
   "cell_type": "code",
   "execution_count": null,
   "metadata": {},
   "outputs": [],
   "source": [
    "display_id = \"0000\"\n",
    "data = api.get_PiVisionApi(f\"displays/{display_id}/export\")\n",
    "print(data)"
   ]
  },
  {
   "cell_type": "markdown",
   "metadata": {},
   "source": [
    "This code is a simple example of how to access all display of folder"
   ]
  },
  {
   "cell_type": "code",
   "execution_count": null,
   "metadata": {},
   "outputs": [],
   "source": [
    "folder_id = \"0000\"\n",
    "data = api.get_PiVisionApi(f\"displays?folderId={folder_id}\")\n",
    "print(data)"
   ]
  }
 ],
 "metadata": {
  "kernelspec": {
   "display_name": "Python 3",
   "language": "python",
   "name": "python3"
  },
  "language_info": {
   "codemirror_mode": {
    "name": "ipython",
    "version": 3
   },
   "file_extension": ".py",
   "mimetype": "text/x-python",
   "name": "python",
   "nbconvert_exporter": "python",
   "pygments_lexer": "ipython3",
   "version": "3.11.4"
  }
 },
 "nbformat": 4,
 "nbformat_minor": 2
}
