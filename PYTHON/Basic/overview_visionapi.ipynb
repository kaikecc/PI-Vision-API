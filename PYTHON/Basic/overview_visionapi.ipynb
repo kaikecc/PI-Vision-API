{
 "cells": [
  {
   "cell_type": "markdown",
   "metadata": {},
   "source": [
    "Autor: Kaike Castro Carvalho\n",
    "\n",
    "Date: 26-May-2024"
   ]
  },
  {
   "cell_type": "markdown",
   "metadata": {},
   "source": [
    "# Import Libraries"
   ]
  },
  {
   "cell_type": "markdown",
   "metadata": {},
   "source": [
    "To run the script locally, follow these steps:\n",
    "\n",
    "* Ensure your local machine has Python installed.\n",
    "* Install necessary libraries if not already installed\n",
    "\n",
    "Use the package manager [pip](https://pip.pypa.io/en/stable/) to install the following packages:\n",
    "\n",
    "```powershell\n",
    "pip install requests requests_ntlm\n"
   ]
  },
  {
   "cell_type": "code",
   "execution_count": null,
   "metadata": {},
   "outputs": [],
   "source": [
    "import requests\n",
    "from requests_ntlm import HttpNtlmAuth\n",
    "\n",
    "# Disable SSL warnings\n",
    "urllib3.disable_warnings(urllib3.exceptions.InsecureRequestWarning)"
   ]
  },
  {
   "cell_type": "markdown",
   "metadata": {},
   "source": [
    "## Base Code"
   ]
  },
  {
   "cell_type": "code",
   "execution_count": null,
   "metadata": {},
   "outputs": [],
   "source": [
    "class VisionApi:\n",
    "    def __init__(self, url_endpoint, username, password):\n",
    "        self.url_endpoint = url_endpoint\n",
    "        self.username = username\n",
    "        self.password = password\n",
    "        self.session = requests.Session()\n",
    "        self.session.verify = False  # Be cautious with this in a production environment\n",
    "\n",
    "    def _request(self, method, custom_url, body=None):\n",
    "        \"\"\"\n",
    "        Generic request method to handle all types of HTTP requests.\n",
    "        \"\"\"\n",
    "        # Set up authentication and headers\n",
    "        auth = HttpNtlmAuth(self.username, self.password)\n",
    "        headers = {\n",
    "            'Content-Type': 'application/json',\n",
    "            'X-Requested-With': 'XMLHttpRequest'\n",
    "        }\n",
    "\n",
    "        # Construct the full API URL\n",
    "        api_url = f\"{self.url_endpoint}/{custom_url}\"\n",
    "\n",
    "        # Try to make the HTTP request\n",
    "        try:\n",
    "            if method.upper() == 'GET':\n",
    "                response = self.session.get(api_url, auth=auth, headers=headers)\n",
    "            elif method.upper() == 'POST':\n",
    "                response = self.session.post(api_url, auth=auth, headers=headers, json=body)\n",
    "            elif method.upper() == 'PUT':\n",
    "                response = self.session.put(api_url, auth=auth, headers=headers, json=body)\n",
    "            elif method.upper() == 'DELETE':\n",
    "                response = self.session.delete(api_url, auth=auth, headers=headers)\n",
    "            else:\n",
    "                raise ValueError(\"Unsupported HTTP method provided.\")\n",
    "\n",
    "            # Handle responses\n",
    "            if response.status_code == 200:\n",
    "                return response.json()\n",
    "            if response.status_code == 204:\n",
    "                print(f\"204 No Content: No content returned from the API: {api_url}\")\n",
    "                return None\n",
    "            print(f\"{response.status_code} Error: {response.text} from the API: {api_url}\")\n",
    "            return None\n",
    "\n",
    "        except requests.exceptions.RequestException as e:\n",
    "            print(f\"Connection Error while accessing the API: {api_url}: {e}\")\n",
    "            return None\n",
    "\n",
    "    def get_pi_vision_api(self, custom_url):\n",
    "        return self._request(\"GET\", custom_url)\n",
    "\n",
    "    def post_pi_vision_api(self, custom_url, data):\n",
    "        return self._request(\"POST\", custom_url, body=data)\n",
    "\n",
    "    def put_pi_vision_api(self, custom_url, data):\n",
    "        return self._request(\"PUT\", custom_url, body=data)\n",
    "\n",
    "    def delete_pi_vision_api(self, custom_url):\n",
    "        return self._request(\"DELETE\", custom_url)\n"
   ]
  },
  {
   "cell_type": "code",
   "execution_count": null,
   "metadata": {},
   "outputs": [],
   "source": [
    "api = VisionApi(\"https://<myserver>/PIVision/Utility/api/v1\", \"<user>\", \"<password>\")"
   ]
  },
  {
   "cell_type": "markdown",
   "metadata": {},
   "source": [
    "# Endpoints PI Vision API\n",
    "\n",
    "* Access the API endpoints to get the data you need to build your application."
   ]
  },
  {
   "cell_type": "markdown",
   "metadata": {},
   "source": [
    "This code is a simple example of how to access the list of displays.\n",
    "\n"
   ]
  },
  {
   "cell_type": "code",
   "execution_count": null,
   "metadata": {},
   "outputs": [],
   "source": [
    "data = api.get_pi_vision_api(f\"displays\")\n",
    "print(data)"
   ]
  },
  {
   "cell_type": "markdown",
   "metadata": {},
   "source": [
    "This code is a simple example of how to access the list of folders.\n",
    "\n"
   ]
  },
  {
   "cell_type": "code",
   "execution_count": null,
   "metadata": {},
   "outputs": [],
   "source": [
    "data = api.get_pi_vision_api(f\"folders\")\n",
    "print(data)"
   ]
  },
  {
   "cell_type": "markdown",
   "metadata": {},
   "source": [
    "This code is a simple example of how to access a display specific"
   ]
  },
  {
   "cell_type": "code",
   "execution_count": null,
   "metadata": {},
   "outputs": [],
   "source": [
    "display_id = \"0000\"\n",
    "data = api.get_pi_vision_api(f\"displays/{display_id}/export\")\n",
    "print(data)"
   ]
  },
  {
   "cell_type": "markdown",
   "metadata": {},
   "source": [
    "This code is a simple example of how to access all display of folder"
   ]
  },
  {
   "cell_type": "markdown",
   "metadata": {},
   "source": [
    "* Parameters\n",
    "\n",
    "    * [optional] integer FolderId\n",
    "Parent Folder Id. Skip this parameter to get displays from the root folder.\n",
    "\n",
    "    * [optional] integer Skip\n",
    "Amount of records to skip. Default: 0.\n",
    "\n",
    "    * [optional] integer Count\n",
    "Amount of records to fetch. Default: 100."
   ]
  },
  {
   "cell_type": "code",
   "execution_count": null,
   "metadata": {},
   "outputs": [],
   "source": [
    "folder_id = \"0000\"\n",
    "data = api.get_pi_vision_api(f\"displays?folderId={folder_id}\")\n",
    "print(data)"
   ]
  },
  {
   "cell_type": "code",
   "execution_count": null,
   "metadata": {},
   "outputs": [],
   "source": [
    "folder_id = \"0000\"\n",
    "data = api.get_pi_vision_api(f\"displays?folderId={folder_id}&Skip=0&Count=1\")\n",
    "print(data)"
   ]
  }
 ],
 "metadata": {
  "kernelspec": {
   "display_name": "Python 3",
   "language": "python",
   "name": "python3"
  },
  "language_info": {
   "codemirror_mode": {
    "name": "ipython",
    "version": 3
   },
   "file_extension": ".py",
   "mimetype": "text/x-python",
   "name": "python",
   "nbconvert_exporter": "python",
   "pygments_lexer": "ipython3",
   "version": "3.8.10"
  }
 },
 "nbformat": 4,
 "nbformat_minor": 2
}
