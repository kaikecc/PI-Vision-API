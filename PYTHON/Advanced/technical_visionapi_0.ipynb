{
 "cells": [
  {
   "cell_type": "markdown",
   "metadata": {},
   "source": [
    "Autor: Kaike Castro Carvalho\n",
    "\n",
    "Date: 26-May-2024"
   ]
  },
  {
   "cell_type": "markdown",
   "metadata": {},
   "source": [
    "# Import Libraries"
   ]
  },
  {
   "cell_type": "code",
   "execution_count": 1,
   "metadata": {},
   "outputs": [],
   "source": [
    "import requests\n",
    "import urllib3\n",
    "from requests_kerberos import HTTPKerberosAuth\n",
    "import json"
   ]
  },
  {
   "cell_type": "markdown",
   "metadata": {},
   "source": [
    "## Base Code"
   ]
  },
  {
   "cell_type": "code",
   "execution_count": null,
   "metadata": {},
   "outputs": [],
   "source": [
    "class VisionApi:\n",
    "    def __init__(self, url_endpoint, username, password):\n",
    "        self.url_endpoint = url_endpoint\n",
    "        self.username = username\n",
    "        self.password = password\n",
    "        self.session = requests.Session()\n",
    "        self.session.verify = False  # Be cautious with this in a production environment\n",
    "\n",
    "    def _request(self, method, custom_url, body=None):\n",
    "        \"\"\"\n",
    "        Generic request method to handle all types of HTTP requests.\n",
    "        \"\"\"\n",
    "        # Set up authentication and headers\n",
    "        auth = HttpNtlmAuth(self.username, self.password)\n",
    "        headers = {\n",
    "            'Content-Type': 'application/json',\n",
    "            'X-Requested-With': 'XMLHttpRequest'\n",
    "        }\n",
    "\n",
    "        # Construct the full API URL\n",
    "        api_url = f\"{self.url_endpoint}/{custom_url}\"\n",
    "\n",
    "        # Try to make the HTTP request\n",
    "        try:\n",
    "            if method.upper() == 'GET':\n",
    "                response = self.session.get(api_url, auth=auth, headers=headers)\n",
    "            elif method.upper() == 'POST':\n",
    "                response = self.session.post(api_url, auth=auth, headers=headers, json=body)\n",
    "            elif method.upper() == 'PUT':\n",
    "                response = self.session.put(api_url, auth=auth, headers=headers, json=body)\n",
    "            elif method.upper() == 'DELETE':\n",
    "                response = self.session.delete(api_url, auth=auth, headers=headers)\n",
    "            else:\n",
    "                raise ValueError(\"Unsupported HTTP method provided.\")\n",
    "\n",
    "            # Handle responses\n",
    "            if response.status_code == 200:\n",
    "                return response.json()\n",
    "            if response.status_code == 204:\n",
    "                print(f\"204 No Content: No content returned from the API: {api_url}\")\n",
    "                return None\n",
    "            print(f\"{response.status_code} Error: {response.text} from the API: {api_url}\")\n",
    "            return None\n",
    "\n",
    "        except requests.exceptions.RequestException as e:\n",
    "            print(f\"Connection Error while accessing the API: {api_url}: {e}\")\n",
    "            return None\n",
    "\n",
    "    def get_pi_vision_api(self, custom_url):\n",
    "        return self._request(\"GET\", custom_url)\n",
    "\n",
    "    def post_pi_vision_api(self, custom_url, data):\n",
    "        return self._request(\"POST\", custom_url, body=data)\n",
    "\n",
    "    def put_pi_vision_api(self, custom_url, data):\n",
    "        return self._request(\"PUT\", custom_url, body=data)\n",
    "\n",
    "    def delete_pi_vision_api(self, custom_url):\n",
    "        return self._request(\"DELETE\", custom_url)\n"
   ]
  },
  {
   "cell_type": "code",
   "execution_count": null,
   "metadata": {},
   "outputs": [],
   "source": [
    "api = VisionApi(\"https://<servername>/PIVision/Utility/api/v1\", \"<username>\", \"<password>\")"
   ]
  },
  {
   "cell_type": "markdown",
   "metadata": {},
   "source": [
    "# Applying Templates (in development)"
   ]
  },
  {
   "cell_type": "code",
   "execution_count": null,
   "metadata": {},
   "outputs": [],
   "source": [
    "def apply_template(display_id, template_id):\n",
    "       \n",
    "    template = api.get_PiVisionApi(f\"displays/{template_id}/export\")        \n",
    "    display = api.get_PiVisionApi(f\"displays/{display_id}/export\")\n",
    "\n",
    "    display_copy = display.copy() \n",
    "    \n",
    "    top_adjustment = 200\n",
    "    \n",
    "    # 1. Adjust 'Top' \n",
    "    for symbol in display_copy[\"Display\"][\"Symbols\"]:\n",
    "        if \"Configuration\" in symbol:\n",
    "            top = float(symbol[\"Configuration\"].get(\"Top\", 0))\n",
    "            symbol[\"Configuration\"][\"Top\"] = top + top_adjustment\n",
    "\n",
    "    max_top_symbol = max((symbol for symbol in data[\"Display\"][\"Symbols\"] if \"Configuration\" in symbol and \"Top\" in symbol[\"Configuration\"]),\n",
    "                        key=lambda s: float(s[\"Configuration\"][\"Top\"]))\n",
    "    max_top = float(max_top_symbol[\"Configuration\"][\"Top\"])\n",
    "    max_height = float(max_top_symbol[\"Configuration\"][\"Height\"]) \n",
    "\n",
    "    # 2. Get images from template        \n",
    "\n",
    "    image_symbol = next((symbol for symbol in template[\"Display\"][\"Symbols\"] if symbol[\"SymbolType\"] == \"image\"), None)\n",
    "    \n",
    "    # 3. Get the last symbol number and name\n",
    "    \n",
    "    last_symbol = data[\"Display\"][\"Symbols\"][-1]\n",
    "    last_number = int(last_symbol[\"Name\"].replace('Symbol', '')) + 1\n",
    "\n",
    "    # 4. Rename the image symbol and add it to the display\n",
    "    image_symbol[\"Name\"] = \"Symbol\" + str(last_number)\n",
    "    \n",
    "    # 5. Add the image symbol to the display\n",
    "    display_copy[\"Display\"][\"Symbols\"].append(image_symbol)\n",
    "    \n",
    "    display_copy['Display']['AttachmentIds'] = template['Display']['AttachmentIds']\n",
    "    display_copy[\"Attachments\"] = template.get(\"Attachments\", [])\n",
    "                    \n",
    "\n",
    "    for symbol in template[\"Display\"][\"Symbols\"]:\n",
    "        last_number += 1\n",
    "        if symbol[\"SymbolType\"] == \"statictext\":         \n",
    "            symbol[\"Name\"] = \"Symbol\" + str(last_number)        \n",
    "        elif symbol[\"SymbolType\"] == \"line\":\n",
    "            if symbol[\"Name\"] == \"bottom\":\n",
    "                symbol[\"Configuration\"][\"Top\"] = str(max_top + max_height + 50.0)\n",
    "            symbol[\"Name\"] = \"Symbol\" + str(last_number)\n",
    "        display_copy[\"Display\"][\"Symbols\"].append(symbol.copy())\n",
    "   \n",
    "    "
   ]
  }
 ],
 "metadata": {
  "kernelspec": {
   "display_name": "Python 3",
   "language": "python",
   "name": "python3"
  },
  "language_info": {
   "codemirror_mode": {
    "name": "ipython",
    "version": 3
   },
   "file_extension": ".py",
   "mimetype": "text/x-python",
   "name": "python",
   "nbconvert_exporter": "python",
   "pygments_lexer": "ipython3",
   "version": "3.11.4"
  }
 },
 "nbformat": 4,
 "nbformat_minor": 2
}
